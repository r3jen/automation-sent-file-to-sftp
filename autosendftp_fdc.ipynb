{
 "cells": [
  {
   "cell_type": "code",
   "execution_count": 3,
   "metadata": {},
   "outputs": [],
   "source": [
    "import mysql.connector\n",
    "import csv\n",
    "import os\n",
    "import shutil\n",
    "import zipfile36 as zipfile\n",
    "import zipfile as zipfile2\n",
    "import pyzipper\n",
    "import paramiko\n",
    "\n",
    "from datetime import datetime, timedelta\n",
    "from os import path\n",
    "from shutil import make_archive\n",
    "\n",
    "db = mysql.connector.connect(\n",
    "   host=\"your host\",\n",
    "    port=\"your port\",\n",
    "   user=\"your user\",\n",
    "   passwd=\"your password\"\n",
    ")\n",
    "\n",
    "mycursor = db.cursor()\n",
    "sql = \"your query \"\n",
    "mycursor.execute(sql)\n",
    "\n",
    "#Export csv\n",
    "\n",
    "csv_file = '820012' + datetime.strftime(datetime.now() - timedelta(1), '%Y%m%d') +'SIK05' +'.csv'\n",
    "csv_file_full = os.path.join(\"C:\", os.sep, \"Users\", \"reza.andreawan\", \"Documents\", \"query\",\"Ojk\",\"structure\",\"upload to ojk\",\"upload to sik\",csv_file)\n",
    "\n",
    "with open(csv_file_full,'w',newline=\"\") as f:\n",
    "    writer = csv.writer(f,delimiter='|')\n",
    "    for row in mycursor.fetchall():\n",
    "        writer.writerow(row)\n",
    "\n",
    "        \n",
    "\n",
    "#file to zip\n",
    "\n",
    "csv_file = '820012' + datetime.strftime(datetime.now() - timedelta(1), '%Y%m%d') +'SIK05' +'.csv'\n",
    "csv_file_zip = '820012' + datetime.strftime(datetime.now() - timedelta(1), '%Y%m%d') +'SIK05' +'.zip'\n",
    "csv_file_zip_full = os.path.join(\"C:\", os.sep, \"Users\", \"reza.andreawan\", \"Documents\", \"query\",\"Ojk\",\"structure\",\"upload to ojk\",\"upload to sik\",csv_file_zip)\n",
    "csv_file_full = os.path.join(\"C:\", os.sep, \"Users\", \"reza.andreawan\", \"Documents\", \"query\",\"Ojk\",\"structure\",\"upload to ojk\",\"upload to sik\",csv_file)\n",
    "z1=zipfile2.ZipFile(csv_file_zip_full, mode='w').write(csv_file_full,os.path.basename(csv_file_full))\n",
    "\n",
    "\n",
    "#to encrypt password\n",
    "secret_password = b'your pass zip'\n",
    "\n",
    "with pyzipper.AESZipFile(csv_file_zip_full,\n",
    "                         'w',\n",
    "                         compression=pyzipper.ZIP_DEFLATED,\n",
    "                         encryption=pyzipper.WZ_AES) as zf:\n",
    "    zf.pwd = secret_password\n",
    "    zf.write(csv_file_full,os.path.basename(csv_file_full))\n",
    "    \n",
    "#send sftp FDC\n",
    "import paramiko\n",
    "from datetime import datetime, timedelta\n",
    "paramiko.util.log_to_file(\"paramiko.log\")\n",
    "\n",
    "# Open a transport\n",
    "host = \"your host\"\n",
    "transport = paramiko.Transport((host))\n",
    "\n",
    "# Auth    \n",
    "username,password = \"your user sftp\",\"your pass sftp"\n",
    "transport.connect(None,username,password)\n",
    "\n",
    "# Go!    \n",
    "sftp = paramiko.SFTPClient.from_transport(transport)\n",
    "\n",
    "# Upload\n",
    "filename= '820012' + datetime.strftime(datetime.now() - timedelta(1), '%Y%m%d') +'SIK05' +'.zip'\n",
    "filepath = r'/in/'+filename\n",
    "localpath = r'C:/Users/reza.andreawan/Documents/query/Ojk/structure/upload to ojk/upload to sik/'+ filename\n",
    "sftp.put(localpath,filepath)\n",
    "\n",
    "# Close\n",
    "if sftp: sftp.close()\n",
    "if transport: transport.close()"
   ]
  },
  {
   "cell_type": "code",
   "execution_count": 12,
   "metadata": {},
   "outputs": [
    {
     "name": "stdout",
     "output_type": "stream",
     "text": [
      "20191204\n"
     ]
    }
   ],
   "source": []
  },
  {
   "cell_type": "code",
   "execution_count": null,
   "metadata": {},
   "outputs": [],
   "source": []
  },
  {
   "cell_type": "code",
   "execution_count": null,
   "metadata": {},
   "outputs": [],
   "source": []
  }
 ],
 "metadata": {
  "kernelspec": {
   "display_name": "Python 3",
   "language": "python",
   "name": "python3"
  },
  "language_info": {
   "codemirror_mode": {
    "name": "ipython",
    "version": 3
   },
   "file_extension": ".py",
   "mimetype": "text/x-python",
   "name": "python",
   "nbconvert_exporter": "python",
   "pygments_lexer": "ipython3",
   "version": "3.7.3"
  }
 },
 "nbformat": 4,
 "nbformat_minor": 4
}
